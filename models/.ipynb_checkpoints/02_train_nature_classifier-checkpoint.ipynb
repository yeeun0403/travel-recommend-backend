{
 "cells": [
  {
   "cell_type": "code",
   "execution_count": 1,
   "metadata": {
    "colab": {
     "base_uri": "https://localhost:8080/"
    },
    "executionInfo": {
     "elapsed": 29080,
     "status": "ok",
     "timestamp": 1749283693795,
     "user": {
      "displayName": "이성집",
      "userId": "15960590795847686833"
     },
     "user_tz": -540
    },
    "id": "HCFf1fBXPnS5",
    "outputId": "f59768e5-3991-49b1-a09a-595f58e3aad1"
   },
   "outputs": [],
   "source": [
    "#1. google drive 연동 및 필요 라이브러리 임포트\n",
    "import pandas as pd\n",
    "import numpy as np\n",
    "\n",
    "from sklearn.feature_extraction.text import TfidfVectorizer\n",
    "from sklearn.preprocessing import MultiLabelBinarizer\n",
    "from sklearn.linear_model import LogisticRegression\n",
    "from sklearn.multiclass import OneVsRestClassifier\n",
    "from sklearn.model_selection import StratifiedKFold, cross_val_predict, KFold # Added KFold\n",
    "from sklearn.metrics import classification_report"
   ]
  },
  {
   "cell_type": "code",
   "execution_count": 3,
   "metadata": {
    "executionInfo": {
     "elapsed": 1399,
     "status": "ok",
     "timestamp": 1749283695192,
     "user": {
      "displayName": "이성집",
      "userId": "15960590795847686833"
     },
     "user_tz": -540
    },
    "id": "RfuAiOUZQZkH"
   },
   "outputs": [],
   "source": [
    "#2.데이터 불러오기\n",
    "file_path = 'C:/flask_project/data/강원도_관광지_20_예시.xlsx'\n",
    "df = pd.read_excel(file_path)\n",
    "df_nature = df[['description', 'nature']].dropna()"
   ]
  },
  {
   "cell_type": "code",
   "execution_count": 4,
   "metadata": {
    "executionInfo": {
     "elapsed": 15,
     "status": "ok",
     "timestamp": 1749283695209,
     "user": {
      "displayName": "이성집",
      "userId": "15960590795847686833"
     },
     "user_tz": -540
    },
    "id": "wBbYJRmoQhp1"
   },
   "outputs": [],
   "source": [
    "#3. nature 칼럼을 리스트 형태로 변환(쉼표 분리)\n",
    "df_nature['nature'] = df_nature['nature'].apply(lambda x: [tag.strip() for tag in str(x).split(',')])"
   ]
  },
  {
   "cell_type": "code",
   "execution_count": 5,
   "metadata": {
    "executionInfo": {
     "elapsed": 8,
     "status": "ok",
     "timestamp": 1749283695216,
     "user": {
      "displayName": "이성집",
      "userId": "15960590795847686833"
     },
     "user_tz": -540
    },
    "id": "CmgDXtpiSBVB"
   },
   "outputs": [],
   "source": [
    "#4. 입/출력 정의\n",
    "X = df_nature['description']\n",
    "mlb = MultiLabelBinarizer()\n",
    "y = mlb.fit_transform(df_nature['nature'])"
   ]
  },
  {
   "cell_type": "code",
   "execution_count": 9,
   "metadata": {
    "executionInfo": {
     "elapsed": 28,
     "status": "ok",
     "timestamp": 1749283695247,
     "user": {
      "displayName": "이성집",
      "userId": "15960590795847686833"
     },
     "user_tz": -540
    },
    "id": "Pc_HOHQhSNfX"
   },
   "outputs": [],
   "source": [
    "#5. TF-IDF 벡터화 + 분류기 구성\n",
    "vectorizer = TfidfVectorizer(max_features = 1000)\n",
    "X_vec = vectorizer.fit_transform(X)\n",
    "clf = OneVsRestClassifier(LogisticRegression(solver='liblinear'))"
   ]
  },
  {
   "cell_type": "code",
   "execution_count": 11,
   "metadata": {
    "colab": {
     "base_uri": "https://localhost:8080/"
    },
    "executionInfo": {
     "elapsed": 63,
     "status": "ok",
     "timestamp": 1749283695310,
     "user": {
      "displayName": "이성집",
      "userId": "15960590795847686833"
     },
     "user_tz": -540
    },
    "id": "qfz9u6kySb5f",
    "outputId": "6602b188-6226-49f4-985a-7f5c8d084cd9"
   },
   "outputs": [
    {
     "name": "stderr",
     "output_type": "stream",
     "text": [
      "C:\\Users\\tlrtj\\anaconda3\\Lib\\site-packages\\sklearn\\multiclass.py:87: UserWarning: Label not 4 is present in all training examples.\n",
      "  warnings.warn(\n",
      "C:\\Users\\tlrtj\\anaconda3\\Lib\\site-packages\\sklearn\\multiclass.py:87: UserWarning: Label not 0 is present in all training examples.\n",
      "  warnings.warn(\n",
      "C:\\Users\\tlrtj\\anaconda3\\Lib\\site-packages\\sklearn\\multiclass.py:87: UserWarning: Label not 3 is present in all training examples.\n",
      "  warnings.warn(\n"
     ]
    }
   ],
   "source": [
    "#6. K-Fold 교차검증을 통한 예측\n",
    "kf = KFold(n_splits = 5, shuffle = True, random_state = 42)\n",
    "y_pred = cross_val_predict(clf, X_vec, y, cv = kf)"
   ]
  },
  {
   "cell_type": "code",
   "execution_count": 13,
   "metadata": {
    "colab": {
     "base_uri": "https://localhost:8080/"
    },
    "executionInfo": {
     "elapsed": 61,
     "status": "ok",
     "timestamp": 1749283695372,
     "user": {
      "displayName": "이성집",
      "userId": "15960590795847686833"
     },
     "user_tz": -540
    },
    "id": "LqtRhUUsSpo9",
    "outputId": "bc5f6c54-a75c-48cf-d3cd-4552e18e64aa"
   },
   "outputs": [
    {
     "name": "stdout",
     "output_type": "stream",
     "text": [
      "              precision    recall  f1-score   support\n",
      "\n",
      "          계곡       0.00      0.00      0.00         1\n",
      "          바다       0.00      0.00      0.00         6\n",
      "           산       0.50      0.56      0.53         9\n",
      "           섬       0.00      0.00      0.00         1\n",
      "           숲       0.00      0.00      0.00         1\n",
      "          자연       0.00      0.00      0.00         6\n",
      "          호수       0.00      0.00      0.00         3\n",
      "\n",
      "   micro avg       0.50      0.19      0.27        27\n",
      "   macro avg       0.07      0.08      0.08        27\n",
      "weighted avg       0.17      0.19      0.18        27\n",
      " samples avg       0.29      0.18      0.22        27\n",
      "\n"
     ]
    },
    {
     "name": "stderr",
     "output_type": "stream",
     "text": [
      "C:\\Users\\tlrtj\\anaconda3\\Lib\\site-packages\\sklearn\\metrics\\_classification.py:1531: UndefinedMetricWarning: Precision is ill-defined and being set to 0.0 in labels with no predicted samples. Use `zero_division` parameter to control this behavior.\n",
      "  _warn_prf(average, modifier, f\"{metric.capitalize()} is\", len(result))\n",
      "C:\\Users\\tlrtj\\anaconda3\\Lib\\site-packages\\sklearn\\metrics\\_classification.py:1531: UndefinedMetricWarning: Precision is ill-defined and being set to 0.0 in samples with no predicted labels. Use `zero_division` parameter to control this behavior.\n",
      "  _warn_prf(average, modifier, f\"{metric.capitalize()} is\", len(result))\n"
     ]
    }
   ],
   "source": [
    "#7. 성능 리포트 출력\n",
    "print(classification_report(y, y_pred, target_names=mlb.classes_))"
   ]
  },
  {
   "cell_type": "code",
   "execution_count": 15,
   "metadata": {
    "colab": {
     "base_uri": "https://localhost:8080/"
    },
    "executionInfo": {
     "elapsed": 36,
     "status": "ok",
     "timestamp": 1749283722507,
     "user": {
      "displayName": "이성집",
      "userId": "15960590795847686833"
     },
     "user_tz": -540
    },
    "id": "XCT4FhhJS7a-",
    "outputId": "61082dfe-8d5a-47a0-ca41-662e7f6641f7"
   },
   "outputs": [
    {
     "name": "stdout",
     "output_type": "stream",
     "text": [
      "✅ nature 관련 모델, 인코더 저장 완료!\n"
     ]
    }
   ],
   "source": [
    "import joblib\n",
    "\n",
    "# 분류기 저장\n",
    "joblib.dump(clf, 'C:/flask_project/models/nature_model.pkl')\n",
    "\n",
    "# 인코더 저장\n",
    "joblib.dump(mlb, 'C:/flask_project/models/nature_encoder.pkl')\n",
    "\n",
    "print(\"✅ nature 관련 모델, 인코더 저장 완료!\")"
   ]
  },
  {
   "cell_type": "code",
   "execution_count": null,
   "metadata": {},
   "outputs": [],
   "source": []
  }
 ],
 "metadata": {
  "colab": {
   "authorship_tag": "ABX9TyNvVe5YInLe5y6ydl81SdqI",
   "provenance": []
  },
  "kernelspec": {
   "display_name": "Python [conda env:base] *",
   "language": "python",
   "name": "conda-base-py"
  },
  "language_info": {
   "codemirror_mode": {
    "name": "ipython",
    "version": 3
   },
   "file_extension": ".py",
   "mimetype": "text/x-python",
   "name": "python",
   "nbconvert_exporter": "python",
   "pygments_lexer": "ipython3",
   "version": "3.12.7"
  }
 },
 "nbformat": 4,
 "nbformat_minor": 4
}
