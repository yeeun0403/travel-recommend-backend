{
 "cells": [
  {
   "cell_type": "code",
   "execution_count": 1,
   "metadata": {
    "colab": {
     "base_uri": "https://localhost:8080/"
    },
    "executionInfo": {
     "elapsed": 27455,
     "status": "ok",
     "timestamp": 1749283881756,
     "user": {
      "displayName": "이성집",
      "userId": "15960590795847686833"
     },
     "user_tz": -540
    },
    "id": "MnR6DloMYnPC",
    "outputId": "4db7c8ab-18af-438a-c685-364ef7c8d2b4"
   },
   "outputs": [],
   "source": [
    "# target 다중 라벨 분류기 코드 (Google Drive 기준)\n",
    "import pandas as pd\n",
    "import numpy as np\n",
    "from sklearn.feature_extraction.text import TfidfVectorizer\n",
    "from sklearn.preprocessing import MultiLabelBinarizer\n",
    "from sklearn.linear_model import LogisticRegression\n",
    "from sklearn.multiclass import OneVsRestClassifier\n",
    "from sklearn.model_selection import KFold, cross_val_predict\n",
    "from sklearn.metrics import classification_report\n"
   ]
  },
  {
   "cell_type": "code",
   "execution_count": 2,
   "metadata": {
    "executionInfo": {
     "elapsed": 1973,
     "status": "ok",
     "timestamp": 1749283883733,
     "user": {
      "displayName": "이성집",
      "userId": "15960590795847686833"
     },
     "user_tz": -540
    },
    "id": "Oc2oO4SXYtVJ"
   },
   "outputs": [],
   "source": [
    "# 1. 파일 경로\n",
    "file_path = 'C:/flask_project/data/강원도_관광지_20_예시.xlsx'\n",
    "df = pd.read_excel(file_path)\n",
    "df_target = df[['description', 'target']].dropna()"
   ]
  },
  {
   "cell_type": "code",
   "execution_count": 3,
   "metadata": {
    "executionInfo": {
     "elapsed": 7,
     "status": "ok",
     "timestamp": 1749283883734,
     "user": {
      "displayName": "이성집",
      "userId": "15960590795847686833"
     },
     "user_tz": -540
    },
    "id": "4qsThhIebHt0"
   },
   "outputs": [],
   "source": [
    "# 2. target 컬럼 다중 라벨 리스트로 변환\n",
    "df_target['target'] = df_target['target'].apply(lambda x: [tag.strip() for tag in str(x).split(',')])\n"
   ]
  },
  {
   "cell_type": "code",
   "execution_count": 7,
   "metadata": {
    "executionInfo": {
     "elapsed": 3,
     "status": "ok",
     "timestamp": 1749283883735,
     "user": {
      "displayName": "이성집",
      "userId": "15960590795847686833"
     },
     "user_tz": -540
    },
    "id": "-mcKwO16bI7_"
   },
   "outputs": [],
   "source": [
    "# 3. 입력(X), 출력(y)\n",
    "X = df_target['description']\n",
    "mlb = MultiLabelBinarizer()\n",
    "y = mlb.fit_transform(df_target['target'])"
   ]
  },
  {
   "cell_type": "code",
   "execution_count": 9,
   "metadata": {
    "executionInfo": {
     "elapsed": 0,
     "status": "ok",
     "timestamp": 1749283883736,
     "user": {
      "displayName": "이성집",
      "userId": "15960590795847686833"
     },
     "user_tz": -540
    },
    "id": "N0Wm-1w1bJ5j"
   },
   "outputs": [],
   "source": [
    "# 4. 벡터화 + 분류기\n",
    "X_vec = TfidfVectorizer(max_features=1000).fit_transform(X)\n",
    "clf = OneVsRestClassifier(LogisticRegression(max_iter=1000))"
   ]
  },
  {
   "cell_type": "code",
   "execution_count": 11,
   "metadata": {
    "executionInfo": {
     "elapsed": 66,
     "status": "ok",
     "timestamp": 1749283883803,
     "user": {
      "displayName": "이성집",
      "userId": "15960590795847686833"
     },
     "user_tz": -540
    },
    "id": "5qv8fFQLbKw9"
   },
   "outputs": [],
   "source": [
    "# 5. 교차 검증\n",
    "kf = KFold(n_splits=5, shuffle=True, random_state=42)\n",
    "y_pred = cross_val_predict(clf, X_vec, y, cv=kf)"
   ]
  },
  {
   "cell_type": "code",
   "execution_count": 13,
   "metadata": {
    "colab": {
     "base_uri": "https://localhost:8080/",
     "height": 92
    },
    "executionInfo": {
     "elapsed": 33,
     "status": "ok",
     "timestamp": 1749283883837,
     "user": {
      "displayName": "이성집",
      "userId": "15960590795847686833"
     },
     "user_tz": -540
    },
    "id": "m3odofPhbMNg",
    "outputId": "104f4be9-3eb1-419d-d927-c03bc004ee4d"
   },
   "outputs": [
    {
     "data": {
      "text/plain": [
       "'              precision    recall  f1-score   support\\n\\n          가족       0.64      1.00      0.78         9\\n          연인       0.57      1.00      0.73         8\\n\\n   micro avg       0.61      1.00      0.76        17\\n   macro avg       0.61      1.00      0.75        17\\nweighted avg       0.61      1.00      0.76        17\\n samples avg       0.61      1.00      0.74        17\\n'"
      ]
     },
     "execution_count": 13,
     "metadata": {},
     "output_type": "execute_result"
    }
   ],
   "source": [
    "# 6. 평가 출력\n",
    "report = classification_report(y, y_pred, target_names=mlb.classes_)\n",
    "report"
   ]
  },
  {
   "cell_type": "code",
   "execution_count": 15,
   "metadata": {
    "colab": {
     "base_uri": "https://localhost:8080/"
    },
    "executionInfo": {
     "elapsed": 34,
     "status": "ok",
     "timestamp": 1749283894866,
     "user": {
      "displayName": "이성집",
      "userId": "15960590795847686833"
     },
     "user_tz": -540
    },
    "id": "fMmzg8vqbNAQ",
    "outputId": "4cd9a5eb-47b4-44a5-8e2e-2249cd4236fc"
   },
   "outputs": [
    {
     "name": "stdout",
     "output_type": "stream",
     "text": [
      "✅ target 관련 모델, 인코더 저장 완료!\n"
     ]
    }
   ],
   "source": [
    "import joblib\n",
    "\n",
    "joblib.dump(clf, 'C:/flask_project/models/target_model.pkl')\n",
    "joblib.dump(mlb, 'C:/flask_project/models/target_encoder.pkl')\n",
    "\n",
    "print(\"✅ target 관련 모델, 인코더 저장 완료!\")"
   ]
  },
  {
   "cell_type": "code",
   "execution_count": null,
   "metadata": {},
   "outputs": [],
   "source": []
  }
 ],
 "metadata": {
  "colab": {
   "authorship_tag": "ABX9TyPnNMEm6TCk6s5cuB10uzM5",
   "provenance": []
  },
  "kernelspec": {
   "display_name": "Python [conda env:base] *",
   "language": "python",
   "name": "conda-base-py"
  },
  "language_info": {
   "codemirror_mode": {
    "name": "ipython",
    "version": 3
   },
   "file_extension": ".py",
   "mimetype": "text/x-python",
   "name": "python",
   "nbconvert_exporter": "python",
   "pygments_lexer": "ipython3",
   "version": "3.12.7"
  }
 },
 "nbformat": 4,
 "nbformat_minor": 4
}
